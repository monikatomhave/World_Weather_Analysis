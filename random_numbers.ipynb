{
 "cells": [
  {
   "cell_type": "code",
   "execution_count": 1,
   "id": "3c2170ce",
   "metadata": {},
   "outputs": [],
   "source": [
    "#Import the random module.\n",
    "\n",
    "import random"
   ]
  },
  {
   "cell_type": "code",
   "execution_count": 4,
   "id": "60f110ea",
   "metadata": {},
   "outputs": [
    {
     "data": {
      "text/plain": [
       "85"
      ]
     },
     "execution_count": 4,
     "metadata": {},
     "output_type": "execute_result"
    }
   ],
   "source": [
    "# 6.1.4 randint stand for random integer\n",
    "# this generates only a single random value each time ran\n",
    "# returns only an integer, will not return a flaoting-point decimal\n",
    "\n",
    "random.randint(-90, 90)"
   ]
  },
  {
   "cell_type": "code",
   "execution_count": 5,
   "id": "3b5cdfca",
   "metadata": {},
   "outputs": [
    {
     "data": {
      "text/plain": [
       "0.3898788903200542"
      ]
     },
     "execution_count": 5,
     "metadata": {},
     "output_type": "execute_result"
    }
   ],
   "source": [
    "# random() function generates a single floating-point decimal number between 0 and 1\n",
    "\n",
    "random.random()"
   ]
  },
  {
   "cell_type": "code",
   "execution_count": 6,
   "id": "fabce3f1",
   "metadata": {},
   "outputs": [
    {
     "data": {
      "text/plain": [
       "74.27464488784582"
      ]
     },
     "execution_count": 6,
     "metadata": {},
     "output_type": "execute_result"
    }
   ],
   "source": [
    "# join both functions to get a random latitude and cahnge the lower \n",
    "# range of the randint() because we want whole numbers up to 89\n",
    "\n",
    "random_number = random.randint(-90, 89) + random.random()\n",
    "random_number"
   ]
  },
  {
   "cell_type": "code",
   "execution_count": 8,
   "id": "1f3920a3",
   "metadata": {},
   "outputs": [
    {
     "data": {
      "text/plain": [
       "[60.964830359329724,\n",
       " -62.17856001955299,\n",
       " 20.16537276394782,\n",
       " 43.17669502175723,\n",
       " 49.57702661497269,\n",
       " 3.2970073339550225,\n",
       " 2.9098610148208373,\n",
       " 50.66287316481697,\n",
       " 40.50741273342703,\n",
       " -64.60054412220514]"
      ]
     },
     "execution_count": 8,
     "metadata": {},
     "output_type": "execute_result"
    }
   ],
   "source": [
    "# create an allgoritm to generate latitiudes between -90 and 89.\n",
    "# this code will generate 10.\n",
    "\n",
    "x = 1\n",
    "latitudes = []\n",
    "\n",
    "while x < 11:\n",
    "    random_lat = random.randint(-90, 89) + random.random()\n",
    "    latitudes.append(random_lat)\n",
    "    x += 1\n",
    "latitudes"
   ]
  },
  {
   "cell_type": "code",
   "execution_count": 9,
   "id": "9b522b91",
   "metadata": {},
   "outputs": [
    {
     "data": {
      "text/plain": [
       "-52"
      ]
     },
     "execution_count": 9,
     "metadata": {},
     "output_type": "execute_result"
    }
   ],
   "source": [
    "# randrange() function takes to limits, upper and lower bounds and an option al step perameter\n",
    "# step parameter is the difference between each number in the sequence\n",
    "# if the step parameter isn't added, it will default to 1\n",
    "# will only generate a whole number\n",
    "\n",
    "random.randrange(-90, 90, step = 1)"
   ]
  },
  {
   "cell_type": "code",
   "execution_count": 10,
   "id": "ac97864f",
   "metadata": {},
   "outputs": [
    {
     "data": {
      "text/plain": [
       "15"
      ]
     },
     "execution_count": 10,
     "metadata": {},
     "output_type": "execute_result"
    }
   ],
   "source": [
    "random.randrange(-90, 90, step = 3)"
   ]
  },
  {
   "cell_type": "code",
   "execution_count": 11,
   "id": "e03dbad9",
   "metadata": {},
   "outputs": [
    {
     "data": {
      "text/plain": [
       "-49.98543779236776"
      ]
     },
     "execution_count": 11,
     "metadata": {},
     "output_type": "execute_result"
    }
   ],
   "source": [
    "# the uniform() function helps ud generate a floating-point number between two given numbers\n",
    "# returns a floating-point decimal number, will not generate a whole number\n",
    "\n",
    "random.uniform(-90, 90)"
   ]
  },
  {
   "cell_type": "code",
   "execution_count": 12,
   "id": "42e048c5",
   "metadata": {},
   "outputs": [],
   "source": [
    "# 6.4.1 combining NumPy and random Modules to generate more than 1000 lat/long values \n",
    "# with less programming\n",
    "\n",
    "import numpy as np"
   ]
  },
  {
   "cell_type": "code",
   "execution_count": 13,
   "id": "b59c3fd4",
   "metadata": {},
   "outputs": [
    {
     "data": {
      "text/plain": [
       "48.354886500487"
      ]
     },
     "execution_count": 13,
     "metadata": {},
     "output_type": "execute_result"
    }
   ],
   "source": [
    "# chain both functions together, numPy has a built in random module so no need to import both\n",
    "np.random.uniform(-90.000, 90.000)"
   ]
  },
  {
   "cell_type": "code",
   "execution_count": 14,
   "id": "1edd011a",
   "metadata": {},
   "outputs": [
    {
     "data": {
      "text/plain": [
       "array([ 21.96013808,  65.89346952,  62.77128557, -34.09053513,\n",
       "       -10.3073345 , -74.43713868, -64.12415847, -59.32554043,\n",
       "         1.70569477,  26.80169629, -48.32203137,  85.68163338,\n",
       "        25.39222888,  -4.03523911,   2.6303071 ,  85.00304847,\n",
       "        -7.20169978,  33.42044678,  50.28266486, -36.56572532,\n",
       "        70.92305125,   7.68904467, -71.48583253, -83.79699151,\n",
       "        67.22761594,  56.36122502, -21.71500826, -59.7542387 ,\n",
       "        61.65158416,  73.0055692 , -39.96420384, -10.21841686,\n",
       "        81.83291785,  60.23166922, -55.42698748,  -3.61979368,\n",
       "       -23.14849633, -63.79407334,  14.79825701,  21.90076799,\n",
       "        -9.88314285, -33.43340627, -62.30525256,  31.83843904,\n",
       "        -2.79994115,  39.27944   ,  34.29933612,  13.13789085,\n",
       "        28.81498986, -36.9951927 ])"
      ]
     },
     "execution_count": 14,
     "metadata": {},
     "output_type": "execute_result"
    }
   ],
   "source": [
    "# to generate more than one value, we can add the size parameter\n",
    "\n",
    "np.random.uniform(-90.000, 90.000, size = 50)"
   ]
  },
  {
   "cell_type": "code",
   "execution_count": 15,
   "id": "fbb54b73",
   "metadata": {},
   "outputs": [],
   "source": [
    "# to test how long it takes the computer to run code we can import the \"timeit\" module\n",
    "# use thsi to test if it is faster to use a while loop or the np.random.uniform, with size\n",
    "# paprameter to generate 1500 numbers\n",
    "\n",
    "# the timeit function will depend on the processing speed and RAM of your computer\n",
    "\n",
    "import timeit"
   ]
  },
  {
   "cell_type": "code",
   "execution_count": 16,
   "id": "a0fde591",
   "metadata": {},
   "outputs": [
    {
     "name": "stdout",
     "output_type": "stream",
     "text": [
      "21 µs ± 2.59 µs per loop (mean ± std. dev. of 7 runs, 100000 loops each)\n"
     ]
    }
   ],
   "source": [
    "%timeit np.random.uniform(-90.000, 90.000, size = 1500)"
   ]
  },
  {
   "cell_type": "code",
   "execution_count": 18,
   "id": "700e2b0c",
   "metadata": {},
   "outputs": [
    {
     "name": "stdout",
     "output_type": "stream",
     "text": [
      "3.96 ms ± 446 µs per loop (mean ± std. dev. of 7 runs, 100 loops each)\n"
     ]
    }
   ],
   "source": [
    "# test how long it takes the while loop to generate the same 1500 values\n",
    "\n",
    "def latitudes(size):\n",
    "    latitudes = []\n",
    "    x = 0\n",
    "    while x < (size):\n",
    "        random_lat = random.randint(-90, 90) + random.random()\n",
    "        latitudes.append(random_lat)\n",
    "        x += 1\n",
    "    return latitudes\n",
    "# call the function with 1500\n",
    "%timeit latitudes (1500)"
   ]
  },
  {
   "cell_type": "code",
   "execution_count": 36,
   "id": "fe092985",
   "metadata": {},
   "outputs": [
    {
     "name": "stdout",
     "output_type": "stream",
     "text": [
      "2.79 ms ± 97.4 µs per loop (mean ± std. dev. of 7 runs, 100 loops each)\n"
     ]
    }
   ],
   "source": [
    "# refactor using a for loop skill drill in 6.1.4\n",
    "\n",
    "def latitudes(size):\n",
    "    latitudes = []\n",
    "    x = 0\n",
    "    for i in range(x, 1500):\n",
    "        random_lat = random.randint(-90, 90) + random.random()\n",
    "        latitudes.append(random_lat)\n",
    "        x += 1\n",
    "   # print(len(latitudes))\n",
    "# call the function with 1500\n",
    "%timeit latitudes (1500)"
   ]
  },
  {
   "cell_type": "code",
   "execution_count": 1,
   "id": "298148e5",
   "metadata": {},
   "outputs": [],
   "source": [
    "# 6.4.1 linear regression practice\n",
    "\n",
    "# Import linear regression from the SciPy stats module.\n",
    "from scipy.stats import linregress"
   ]
  },
  {
   "cell_type": "code",
   "execution_count": 2,
   "id": "bde945c7",
   "metadata": {},
   "outputs": [],
   "source": [
    "# Create an equal number of latitudes and temperatures.\n",
    "lats = [42.5, 43.9, 8.1, 36.8, 79.9, 69.1, 25.7, 15.3, 12.7, 64.5]\n",
    "temps = [80.5, 75.3, 90.9, 90.0, 40.4, 62.3, 85.4, 79.6, 72.5, 72.0]"
   ]
  },
  {
   "cell_type": "code",
   "execution_count": 3,
   "id": "cd16974d",
   "metadata": {},
   "outputs": [
    {
     "name": "stdout",
     "output_type": "stream",
     "text": [
      "y = -0.45x + 92.94\n",
      "The p-value is: 0.011\n"
     ]
    }
   ],
   "source": [
    "# Perform linear regression.\n",
    "# In the code to perform linear regression, the linregress function takes only \n",
    "# two arguments, the x- and y-axes data (lats and temps) in the form of arrays. \n",
    "# And it returns the following:\n",
    "\n",
    "# Slope of the regression line as slope\n",
    "# y-intercept as intercept\n",
    "# Correlation coefficient as r_value\n",
    "# p-value as p_value\n",
    "# Standard error as std_err\n",
    "\n",
    "(slope, intercept, r_value, p_value, std_err) = linregress(lats, temps)\n",
    "# Get the equation of the line.\n",
    "line_eq = \"y = \" + str(round(slope,2)) + \"x + \" + str(round(intercept,2))\n",
    "print(line_eq)\n",
    "print(f\"The p-value is: {p_value:.3f}\")\n",
    "\n",
    "# The slope, intercept, r_value, p_value, and std_errare always returned when we\n",
    "# run the linregress function. If you don't want to calculate one of these values \n",
    "# but do not add it inside the parentheses, you'll get a ValueError: too many values to unpack.\n",
    "\n",
    "# To prevent this error, add a comma and underscore for each value you don't want to calculate.\n",
    "\n",
    "# For instance, if you don't want to print out the p-value and the standard error, \n",
    "# write your function as (slope, intercept, r_value, _, _) = linregress(x, y)."
   ]
  },
  {
   "cell_type": "code",
   "execution_count": 16,
   "id": "c0d1a13d",
   "metadata": {},
   "outputs": [],
   "source": [
    "# In statistics, the p-value is used to determine significance of results. In most cases, \n",
    "# data scientists like to use a significance level of 0.05, which means:\n",
    "\n",
    "# A linear regression with a p-value > 0.05 is not statistically significant.\n",
    "\n",
    "# A linear regression with a p-value < 0.05 is statistically significant.\n",
    "\n",
    "# P-values can also be used to justify rejecting a null hypothesis. We will discuss \n",
    "# p-values and hypothesis testing in more detail later in the course.\n",
    "\n",
    "# calculate the regression line \"y values\" from the slope and intercept\n",
    "\n",
    "regress_values = [(lat * slope + intercept) for lat in lats]"
   ]
  },
  {
   "cell_type": "code",
   "execution_count": 17,
   "id": "09f3a23f",
   "metadata": {},
   "outputs": [
    {
     "data": {
      "image/png": "[encoded data removed]",
      "text/plain": [
       "<Figure size 432x288 with 1 Axes>"
      ]
     },
     "metadata": {
      "needs_background": "light"
     },
     "output_type": "display_data"
    }
   ],
   "source": [
    "# Import Matplotlib.\n",
    "import matplotlib.pyplot as plt\n",
    "# Create a scatter plot of the x and y values.(lat and temps)\n",
    "plt.scatter(lats,temps)\n",
    "# Plot the regression line with the x-values and the y coordinates based on the intercept and slope.\n",
    "plt.plot(lats,regress_values,\"r\")\n",
    "# Annotate the text for the line equation and add its coordinates.( x axis is 10 nad y axis is 40)\n",
    "plt.annotate(line_eq, (10,40), fontsize=15, color=\"red\")\n",
    "# create labels\n",
    "plt.xlabel('Latitude')\n",
    "plt.ylabel('Temp')\n",
    "# run and plot data\n",
    "plt.show()"
   ]
  },
  {
   "cell_type": "code",
   "execution_count": 5,
   "id": "49bd1145",
   "metadata": {},
   "outputs": [],
   "source": [
    "# 6.4.1 video example\n",
    "\n",
    "import matplotlib.pyplot as plt"
   ]
  },
  {
   "cell_type": "code",
   "execution_count": 8,
   "id": "2c8bdbaa",
   "metadata": {},
   "outputs": [],
   "source": [
    "# two lists of data\n",
    "\n",
    "temp = [18.2, 29.5, 35.9, 50.1, 58.6, 69.9, 82.1, 85.5, 73.5, 55.2, 40.3, 30.1]\n",
    "daylight = [7.6, 9.2, 12.2, 13.4, 13.9, 14.2, 13.5, 11.8, 10.9, 9.9, 8.4, 7.8]"
   ]
  },
  {
   "cell_type": "code",
   "execution_count": 9,
   "id": "94ca26e2",
   "metadata": {},
   "outputs": [
    {
     "data": {
      "image/png": "[encoded data removed]",
      "text/plain": [
       "<Figure size 432x288 with 1 Axes>"
      ]
     },
     "metadata": {
      "needs_background": "light"
     },
     "output_type": "display_data"
    }
   ],
   "source": [
    "plt.scatter(daylight, temp)\n",
    "plt.xlabel(\"Hours of Daylight\")\n",
    "plt.ylabel(\"Average Monthly Temperature\")\n",
    "plt.show()"
   ]
  },
  {
   "cell_type": "code",
   "execution_count": 10,
   "id": "8ee5beab",
   "metadata": {},
   "outputs": [
    {
     "data": {
      "text/plain": [
       "LinregressResult(slope=6.156351461038962, intercept=-15.721956168831198, rvalue=0.6796798058571051, pvalue=0.015035320128994735, stderr=2.1009922415206534, intercept_stderr=23.76506117703946)"
      ]
     },
     "execution_count": 10,
     "metadata": {},
     "output_type": "execute_result"
    }
   ],
   "source": [
    "linregress(daylight, temp)"
   ]
  },
  {
   "cell_type": "code",
   "execution_count": 12,
   "id": "303c0f13",
   "metadata": {},
   "outputs": [],
   "source": [
    "(slope, intercept, rval, pval, stderr) = linregress(daylight, temp)"
   ]
  },
  {
   "cell_type": "code",
   "execution_count": 13,
   "id": "a4787bed",
   "metadata": {},
   "outputs": [
    {
     "name": "stdout",
     "output_type": "stream",
     "text": [
      "y = 6.16x + -15.72\n"
     ]
    }
   ],
   "source": [
    "line_eq = \"y = \" + str(round(slope, 2)) + \"x + \" + str(round(intercept,2))\n",
    "print(line_eq)"
   ]
  },
  {
   "cell_type": "code",
   "execution_count": 14,
   "id": "512c6a30",
   "metadata": {},
   "outputs": [],
   "source": [
    "regress_values = [(day * slope + intercept) for day in daylight]"
   ]
  },
  {
   "cell_type": "code",
   "execution_count": 15,
   "id": "5d692ccd",
   "metadata": {},
   "outputs": [
    {
     "data": {
      "image/png": "[encoded data removed]",
      "text/plain": [
       "<Figure size 432x288 with 1 Axes>"
      ]
     },
     "metadata": {
      "needs_background": "light"
     },
     "output_type": "display_data"
    }
   ],
   "source": [
    "plt.scatter(daylight, temp)\n",
    "plt.plot(daylight, regress_values)\n",
    "plt.xlabel(\"Hours of Daylight\")\n",
    "plt.ylabel(\"Average Monthly Temperature\")\n",
    "plt.show()"
   ]
  },
  {
   "cell_type": "code",
   "execution_count": null,
   "id": "031878e9",
   "metadata": {},
   "outputs": [],
   "source": []
  }
 ],
 "metadata": {
  "kernelspec": {
   "display_name": "PythonData",
   "language": "python",
   "name": "pythondata"
  },
  "language_info": {
   "codemirror_mode": {
    "name": "ipython",
    "version": 3
   },
   "file_extension": ".py",
   "mimetype": "text/x-python",
   "name": "python",
   "nbconvert_exporter": "python",
   "pygments_lexer": "ipython3",
   "version": "3.7.13"
  }
 },
 "nbformat": 4,
 "nbformat_minor": 5
}
