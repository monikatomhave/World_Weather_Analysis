{
 "cells": [
  {
   "cell_type": "code",
   "execution_count": null,
   "id": "ed8feb51",
   "metadata": {},
   "outputs": [],
   "source": [
    "weather_api_key = \"3224c97b39311d3167b8be921980fc5c\""
   ]
  }
 ],
 "metadata": {
  "kernelspec": {
   "display_name": "PythonData",
   "language": "python",
   "name": "pythondata"
  },
  "language_info": {
   "codemirror_mode": {
    "name": "ipython",
    "version": 3
   },
   "file_extension": ".py",
   "mimetype": "text/x-python",
   "name": "python",
   "nbconvert_exporter": "python",
   "pygments_lexer": "ipython3",
   "version": "3.7.13"
  }
 },
 "nbformat": 4,
 "nbformat_minor": 5
}
